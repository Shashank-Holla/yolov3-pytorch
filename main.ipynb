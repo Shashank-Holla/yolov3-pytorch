{
  "nbformat": 4,
  "nbformat_minor": 0,
  "metadata": {
    "colab": {
      "name": "main.ipynb",
      "provenance": [],
      "collapsed_sections": [],
      "authorship_tag": "ABX9TyP2KqvASAX9cUyM0zyNDJTp",
      "include_colab_link": true
    },
    "kernelspec": {
      "name": "python3",
      "display_name": "Python 3"
    },
    "accelerator": "GPU"
  },
  "cells": [
    {
      "cell_type": "markdown",
      "metadata": {
        "id": "view-in-github",
        "colab_type": "text"
      },
      "source": [
        "<a href=\"https://colab.research.google.com/github/Shashank-Holla/yolov3-pytorch/blob/master/main.ipynb\" target=\"_parent\"><img src=\"https://colab.research.google.com/assets/colab-badge.svg\" alt=\"Open In Colab\"/></a>"
      ]
    },
    {
      "cell_type": "code",
      "metadata": {
        "id": "IOjkcGn1IB41",
        "colab_type": "code",
        "outputId": "4d0d3340-5154-4c0f-c89d-91dabc9e0492",
        "colab": {
          "base_uri": "https://localhost:8080/",
          "height": 121
        }
      },
      "source": [
        "from google.colab import drive\n",
        "drive.mount('/content/gdrive')"
      ],
      "execution_count": 1,
      "outputs": [
        {
          "output_type": "stream",
          "text": [
            "Go to this URL in a browser: https://accounts.google.com/o/oauth2/auth?client_id=947318989803-6bn6qk8qdgf4n4g3pfee6491hc0brc4i.apps.googleusercontent.com&redirect_uri=urn%3aietf%3awg%3aoauth%3a2.0%3aoob&response_type=code&scope=email%20https%3a%2f%2fwww.googleapis.com%2fauth%2fdocs.test%20https%3a%2f%2fwww.googleapis.com%2fauth%2fdrive%20https%3a%2f%2fwww.googleapis.com%2fauth%2fdrive.photos.readonly%20https%3a%2f%2fwww.googleapis.com%2fauth%2fpeopleapi.readonly\n",
            "\n",
            "Enter your authorization code:\n",
            "··········\n",
            "Mounted at /content/gdrive\n"
          ],
          "name": "stdout"
        }
      ]
    },
    {
      "cell_type": "code",
      "metadata": {
        "id": "IMwVGcsAIIDQ",
        "colab_type": "code",
        "outputId": "e8e9183a-b1e1-46f3-ee7b-7ac8ec01e9f8",
        "colab": {
          "base_uri": "https://localhost:8080/",
          "height": 34
        }
      },
      "source": [
        "#Yolov3's home\n",
        "cd '/content/gdrive/My Drive/ColabNotebooks/yolov3-pytorch/'"
      ],
      "execution_count": 2,
      "outputs": [
        {
          "output_type": "stream",
          "text": [
            "/content/gdrive/My Drive/ColabNotebooks/yolov3-pytorch\n"
          ],
          "name": "stdout"
        }
      ]
    },
    {
      "cell_type": "code",
      "metadata": {
        "id": "kdzCMpKuSeGm",
        "colab_type": "code",
        "outputId": "887f557f-2339-4e5b-f712-b7623adc1e52",
        "colab": {
          "base_uri": "https://localhost:8080/",
          "height": 50
        }
      },
      "source": [
        "!ls"
      ],
      "execution_count": 3,
      "outputs": [
        {
          "output_type": "stream",
          "text": [
            "cfg\t    data\t helper.ipynb  main.ipynb  __pycache__\tutil.py\n",
            "darknet.py  detector.py  images        pallete\t   results\tweights\n"
          ],
          "name": "stdout"
        }
      ]
    },
    {
      "cell_type": "code",
      "metadata": {
        "id": "BYcOPDF1hC4D",
        "colab_type": "code",
        "colab": {}
      },
      "source": [
        "#!wget https://pjreddie.com/media/files/yolov3.weights"
      ],
      "execution_count": 0,
      "outputs": []
    },
    {
      "cell_type": "code",
      "metadata": {
        "id": "xUGs4yNMVSZL",
        "colab_type": "code",
        "colab": {
          "base_uri": "https://localhost:8080/",
          "height": 894
        },
        "outputId": "be7686e0-be05-4cb5-84d9-8068e1ec86eb"
      },
      "source": [
        "!python detector.py --images images/ --results results"
      ],
      "execution_count": 5,
      "outputs": [
        {
          "output_type": "stream",
          "text": [
            "Loading network.....\n",
            "Network successfully loaded\n",
            "Images list:\n",
            "['/content/gdrive/My Drive/ColabNotebooks/yolov3-pytorch/images/dog-cycle-car.jpg', '/content/gdrive/My Drive/ColabNotebooks/yolov3-pytorch/images/cat@dog.jpg', '/content/gdrive/My Drive/ColabNotebooks/yolov3-pytorch/images/giraffe.jpg', '/content/gdrive/My Drive/ColabNotebooks/yolov3-pytorch/images/herd_of_horses.jpg', '/content/gdrive/My Drive/ColabNotebooks/yolov3-pytorch/images/streets-cars.jpg', '/content/gdrive/My Drive/ColabNotebooks/yolov3-pytorch/images/catdog2.jpg', '/content/gdrive/My Drive/ColabNotebooks/yolov3-pytorch/images/dogman.jpg', '/content/gdrive/My Drive/ColabNotebooks/yolov3-pytorch/images/horse.jpg', '/content/gdrive/My Drive/ColabNotebooks/yolov3-pytorch/images/dogman2.jpg', '/content/gdrive/My Drive/ColabNotebooks/yolov3-pytorch/images/londonstreet.jpg', '/content/gdrive/My Drive/ColabNotebooks/yolov3-pytorch/images/street.jpg', '/content/gdrive/My Drive/ColabNotebooks/yolov3-pytorch/images/surf.jpg']\n",
            "dog-cycle-car.jpg    predicted in  0.394 seconds\n",
            "Objects Detected:    bicycle truck dog\n",
            "----------------------------------------------------------\n",
            "cat@dog.jpg          predicted in  0.097 seconds\n",
            "Objects Detected:    cat dog\n",
            "----------------------------------------------------------\n",
            "giraffe.jpg          predicted in  0.098 seconds\n",
            "Objects Detected:    zebra giraffe giraffe\n",
            "----------------------------------------------------------\n",
            "herd_of_horses.jpg   predicted in  0.094 seconds\n",
            "Objects Detected:    horse horse horse horse\n",
            "----------------------------------------------------------\n",
            "streets-cars.jpg     predicted in  0.095 seconds\n",
            "Objects Detected:    car car car car car car car car car car stop sign\n",
            "----------------------------------------------------------\n",
            "catdog2.jpg          predicted in  0.081 seconds\n",
            "Objects Detected:    dog\n",
            "----------------------------------------------------------\n",
            "dogman.jpg           predicted in  0.081 seconds\n",
            "Objects Detected:    person dog\n",
            "----------------------------------------------------------\n",
            "horse.jpg            predicted in  0.085 seconds\n",
            "Objects Detected:    person person person person person traffic light horse horse horse horse horse horse\n",
            "----------------------------------------------------------\n",
            "dogman2.jpg          predicted in  0.073 seconds\n",
            "Objects Detected:    person dog\n",
            "----------------------------------------------------------\n",
            "londonstreet.jpg     predicted in  0.078 seconds\n",
            "Objects Detected:    person person person person person person car bus\n",
            "----------------------------------------------------------\n",
            "street.jpg           predicted in  0.085 seconds\n",
            "Objects Detected:    person person person person car car car car car motorbike truck truck fire hydrant\n",
            "----------------------------------------------------------\n",
            "surf.jpg             predicted in  0.074 seconds\n",
            "Objects Detected:    person surfboard\n",
            "----------------------------------------------------------\n",
            "SUMMARY\n",
            "----------------------------------------------------------\n",
            "Task                     : Time Taken (in seconds)\n",
            "\n",
            "Reading addresses        : 0.001\n",
            "Loading batch            : 11.009\n",
            "Detection (12 images)    : 1.390\n",
            "Output Processing        : 0.000\n",
            "Drawing Boxes            : 2.797\n",
            "Average time_per_img     : 1.306\n",
            "----------------------------------------------------------\n"
          ],
          "name": "stdout"
        }
      ]
    }
  ]
}